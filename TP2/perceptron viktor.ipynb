{
 "cells": [
  {
   "cell_type": "markdown",
   "metadata": {},
   "source": [
    "## Objectives of the practical work\n",
    "\n",
    "The objective is to get hands on experience on the fundamental elements of neural networks:\n",
    " \n",
    " - perceptron architecture (linear regression)\n",
    " - loss function\n",
    " - empirical loss\n",
    " - gradient descent\n",
    "\n",
    "For this we will implement from scratch the data-structure and algorithms to train a perceptron. Note that slides related to the perceptron and neural networks in general are available on [moodle](https://moodle.insa-toulouse.fr/course/view.php?id=1822#section-2).\n",
    "\n",
    "## Dataset\n",
    "\n",
    "The objective of the regression is the prediction of the hydrodynamic performance of sailing yachts from dimensions and velocity.\n",
    "The **inputs** are linked to dimension and hydrodynamics characteristics:\n",
    "1. Longitudinal position of the center of buoyancy\n",
    "(*flottabilité*), adimensional.\n",
    "2. Prismatic coefficient, adimensional.\n",
    "3. Length-displacement ratio, adimensional.\n",
    "4. Beam -draught ratio ((*tiran d’eau*), adimensional.\n",
    "5. Length-beam ratio, adimensional.\n",
    "6. Froude number, adimensional\n",
    "\n",
    "**Target value/predicted value (Output)** = Residuary resistance per unit weight of\n",
    "displacement, adimensional"
   ]
  },
  {
   "cell_type": "code",
   "execution_count": 55,
   "metadata": {},
   "outputs": [],
   "source": [
    "# Import some useful libraries and functions\n",
    "\n",
    "import numpy as np\n",
    "import pandas as pd\n",
    "import matplotlib.pyplot as plt\n",
    "\n",
    "def print_stats(dataset):\n",
    "    \"\"\"Print statistics of a dataset\"\"\"\n",
    "    print(pd.DataFrame(dataset).describe())\n"
   ]
  },
  {
   "cell_type": "code",
   "execution_count": 2,
   "metadata": {},
   "outputs": [
    {
     "name": "stdout",
     "output_type": "stream",
     "text": [
      "Downloading dataset...\n",
      "Dataset available\n"
     ]
    }
   ],
   "source": [
    "# Download the data set and place in the current folder (works on linux only)\n",
    "filename = 'yacht_hydrodynamics.data'\n",
    "\n",
    "import os.path\n",
    "import requests\n",
    "\n",
    "if not os.path.exists(filename):\n",
    "    print(\"Downloading dataset...\")\n",
    "    r = requests.get('https://arbimo.github.io/tp-supervised-learning/tp2/' + filename)\n",
    "    open(filename , 'wb').write(r.content)\n",
    "    \n",
    "print('Dataset available')"
   ]
  },
  {
   "cell_type": "markdown",
   "metadata": {},
   "source": [
    "### Explore the dataset\n",
    "\n",
    "- how many examples are there in the dataset?\n",
    "- how many features for each example?\n",
    "- what is the ground truth of the 10th example"
   ]
  },
  {
   "cell_type": "code",
   "execution_count": 128,
   "metadata": {},
   "outputs": [
    {
     "name": "stdout",
     "output_type": "stream",
     "text": [
      "Number of examples 308\n",
      "6\n",
      "f([-5.    0.6   4.78  4.24  3.15  0.35]) = 8.62\n",
      "f([-5.     0.565  4.77   3.99   3.15   0.15 ]) = 0.18\n",
      "f([-2.3    0.565  4.78   5.35   2.76   0.15 ]) = 0.29\n",
      "f([-5.     0.6    4.78   4.24   3.15   0.325]) = 6.2\n",
      "f([0.    0.53  4.78  3.75  3.15  0.175]) = 0.59\n",
      "Ground truth 10th example : 32.46\n"
     ]
    }
   ],
   "source": [
    "# loads the dataset and slip between inputs (X) and ground truth (Y)\n",
    "dataset = np.genfromtxt(\"yacht_hydrodynamics.data\", delimiter='')\n",
    "X = dataset[:, :-1] # examples features\n",
    "Y = dataset[:, -1]  # ground truth\n",
    "\n",
    "#Number of examples\n",
    "print(f'Number of examples {len(X)}')\n",
    "\n",
    "#Number of features\n",
    "print(np.size(X[0,:]))\n",
    "\n",
    "# Print the first 5 examples\n",
    "for i in range(0,5):\n",
    "    print(f\"f({X[i]}) = {Y[i]}\")\n",
    "    \n",
    "# Ground truth for 10th example\n",
    "print(f'Ground truth 10th example : {Y[10]}')"
   ]
  },
  {
   "cell_type": "markdown",
   "metadata": {},
   "source": [
    "The following command adds a column to the inputs.\n",
    "\n",
    "- what is in the value added this column?\n",
    "- why are we doing this?"
   ]
  },
  {
   "cell_type": "code",
   "execution_count": 129,
   "metadata": {},
   "outputs": [
    {
     "name": "stdout",
     "output_type": "stream",
     "text": [
      "           0           1           2           3           4           5  \\\n",
      "count  308.0  308.000000  308.000000  308.000000  308.000000  308.000000   \n",
      "mean     1.0   -2.381818    0.564136    4.788636    3.936818    3.206818   \n",
      "std      0.0    1.513219    0.023290    0.253057    0.548193    0.247998   \n",
      "min      1.0   -5.000000    0.530000    4.340000    2.810000    2.730000   \n",
      "25%      1.0   -2.400000    0.546000    4.770000    3.750000    3.150000   \n",
      "50%      1.0   -2.300000    0.565000    4.780000    3.955000    3.150000   \n",
      "75%      1.0   -2.300000    0.574000    5.100000    4.170000    3.510000   \n",
      "max      1.0    0.000000    0.600000    5.140000    5.350000    3.640000   \n",
      "\n",
      "                6  \n",
      "count  308.000000  \n",
      "mean     0.287500  \n",
      "std      0.100942  \n",
      "min      0.125000  \n",
      "25%      0.200000  \n",
      "50%      0.287500  \n",
      "75%      0.375000  \n",
      "max      0.450000  \n",
      "[[ 1.    -5.     0.6   ...  4.24   3.15   0.35 ]\n",
      " [ 1.    -5.     0.565 ...  3.99   3.15   0.15 ]\n",
      " [ 1.    -2.3    0.565 ...  5.35   2.76   0.15 ]\n",
      " ...\n",
      " [ 1.    -2.3    0.53  ...  3.68   3.16   0.2  ]\n",
      " [ 1.    -5.     0.6   ...  4.24   3.15   0.275]\n",
      " [ 1.    -2.3    0.53  ...  3.69   3.51   0.35 ]]\n"
     ]
    }
   ],
   "source": [
    "X = np.insert(X, 0, np.ones((len(X))), axis= 1)\n",
    "print_stats(X)\n",
    "\n",
    "print(X)\n",
    "\n",
    "#Only ones are added in the new colum"
   ]
  },
  {
   "cell_type": "markdown",
   "metadata": {},
   "source": [
    "## Creating the perceptron\n",
    "\n",
    "![Perceptron for regression](https://arbimo.github.io/tp-supervised-learning/tp2/perceptron-regression.png)\n",
    "\n",
    "We now want to define a perceptron, that is, a function of the form: \n",
    "\n",
    "$h_w(x) = w_0 + w_1 \\times x_1 + \\dots + w_n \\times x_n$\n",
    "\n",
    "- Complete the code snippet below to:\n",
    "  - create the vector of weight `w`\n",
    "  - implement the `h` function that evaluate an example based on the vector of weights\n",
    "  - check if this works on a few examples"
   ]
  },
  {
   "cell_type": "code",
   "execution_count": 130,
   "metadata": {},
   "outputs": [],
   "source": [
    "w = np.zeros(len(X[0]))\n",
    "\n",
    "def h(w, x):\n",
    "    return np.sum(w*x)\n",
    "#print(h([1,2],[5,6]))\n",
    "\n",
    "# print the ground truth and the evaluation of h_w on the first example"
   ]
  },
  {
   "cell_type": "markdown",
   "metadata": {},
   "source": [
    "## Loss function\n",
    "\n",
    "Complete the definiton of the loss function below such that, for a **single** example `x` with ground truth `y`, it returns the $L_2$ loss of $h_w$ on `x`."
   ]
  },
  {
   "cell_type": "code",
   "execution_count": 131,
   "metadata": {},
   "outputs": [],
   "source": [
    "def loss(w, x, y):\n",
    "    y2 = h(w,x)\n",
    "    return (y-y2)**2\n",
    "\n",
    "#print(loss([1,2],[5,6],3))"
   ]
  },
  {
   "cell_type": "markdown",
   "metadata": {},
   "source": [
    "## Empirical loss\n",
    "\n",
    "Complete the function below to compute the empirical loss of $h_w$ on a **set** of examples $X$ with associated ground truths $Y$."
   ]
  },
  {
   "cell_type": "code",
   "execution_count": 132,
   "metadata": {},
   "outputs": [
    {
     "data": {
      "text/plain": [
       "339.2467464285712"
      ]
     },
     "execution_count": 132,
     "metadata": {},
     "output_type": "execute_result"
    }
   ],
   "source": [
    "def emp_loss(w, X, Y):\n",
    "    return sum([loss(w,X[i],Y[i]) for i in range(len(X))])/len(X)\n",
    "emp_loss(w,X,Y)"
   ]
  },
  {
   "cell_type": "markdown",
   "metadata": {},
   "source": [
    "## Gradient update\n",
    "\n",
    "A gradient update is of the form: $w \\gets w + dw$\n",
    "\n",
    "- Complete the function below so that it computes the $dw$ term (the 'update') based on a set of examples `(X, Y)` the step (`alpha`)\n",
    "\n",
    "If you are not sure about the gradient computation, check out the [perceptron slides](https://moodle.insa-toulouse.fr/pluginfile.php/120391/mod_resource/content/1/cm1.pdf) on [Moodle](https://moodle.insa-toulouse.fr/course/view.php?id=1822) (in particular, slide 26). Make sure this computation is clear to you!"
   ]
  },
  {
   "cell_type": "code",
   "execution_count": 133,
   "metadata": {},
   "outputs": [
    {
     "data": {
      "text/plain": [
       "array([ 0.00323257, -0.00756342,  0.00182051,  0.01547611,  0.01269435,\n",
       "        0.01036508,  0.00130996])"
      ]
     },
     "execution_count": 133,
     "metadata": {},
     "output_type": "execute_result"
    }
   ],
   "source": [
    "def compute_update(w, X, Y, alpha):\n",
    "    dw = []\n",
    "    for i in range(len(w)):\n",
    "        dw += [alpha * sum( (Y-np.array([h(w,i) for i in X])) * X[:,i] )]\n",
    "    dw = np.array(dw)\n",
    "    return w + dw\n",
    "#h(w,X)\n",
    "compute_update(w, X, Y, alpha = 10e-7)"
   ]
  },
  {
   "cell_type": "markdown",
   "metadata": {},
   "source": [
    "## Gradient descent\n",
    "\n",
    "Now implement the gradient descent algorithm that will:\n",
    "\n",
    "- repeatedly apply an update the weights \n",
    "- stops when a max number of iterations is reached (do not consider early stopping for now)\n",
    "- returns the final vector of weights"
   ]
  },
  {
   "cell_type": "code",
   "execution_count": 134,
   "metadata": {},
   "outputs": [],
   "source": [
    "def descent(w_init, X, Y, alpha, max_iter):\n",
    "    nb_iter = 0\n",
    "    criteria = 0.001\n",
    "    w2 = compute_update(w_init,X,Y,alpha)\n",
    "    \n",
    "    while(nb_iter < max_iter):\n",
    "        w2 = compute_update(w2,X,Y,alpha)\n",
    "        nb_iter+=1\n",
    "    return w2"
   ]
  },
  {
   "cell_type": "markdown",
   "metadata": {},
   "source": [
    "## Exploitation\n",
    "\n",
    "You gradient descent is now complete and you can exploit it to train your perceptron.\n",
    "\n",
    "- Train your perceptron to get a model.\n",
    "- Visualize the evolution of the loss on the training set. Has it converged?\n",
    "- Try training for several choices of `alpha` and `max_iter`. What seem like a reasonable choice?\n",
    "- What is the loss associated with the final model?\n",
    "- Is the final model the optimal one for a perceptron?\n"
   ]
  },
  {
   "cell_type": "code",
   "execution_count": 142,
   "metadata": {},
   "outputs": [
    {
     "name": "stdout",
     "output_type": "stream",
     "text": [
      "[ 0.65630987  0.1926671   0.08750611  0.62709246 -0.42734752 -0.16236996\n",
      " 32.86143694]\n"
     ]
    },
    {
     "data": {
      "text/plain": [
       "158.7270700241235"
      ]
     },
     "execution_count": 142,
     "metadata": {},
     "output_type": "execute_result"
    }
   ],
   "source": [
    "# TODO\n",
    "w_trained = descent(w,X,Y,10e-5,1000)\n",
    "print(w_trained)\n",
    "emp_loss(w_trained,X,Y)"
   ]
  },
  {
   "cell_type": "code",
   "execution_count": 143,
   "metadata": {},
   "outputs": [
    {
     "data": {
      "text/plain": [
       "Text(0, 0.5, 'f(examples)')"
      ]
     },
     "execution_count": 143,
     "metadata": {},
     "output_type": "execute_result"
    },
    {
     "data": {
      "image/png": "[encoded data removed]",
      "text/plain": [
       "<Figure size 432x288 with 1 Axes>"
      ]
     },
     "metadata": {
      "needs_background": "light"
     },
     "output_type": "display_data"
    }
   ],
   "source": [
    "# Code sample that can be used to visualize the difference between the ground truth and the prediction\n",
    "\n",
    "num_samples_to_plot = len(X)\n",
    "plt.plot(Y[0:num_samples_to_plot], 'ro', label='y')\n",
    "yw = [h(w_trained,x) for x in X]\n",
    "plt.plot(yw[0:num_samples_to_plot], 'bx', label='$\\hat{y}$')\n",
    "plt.legend()\n",
    "plt.xlabel(\"Examples\")\n",
    "plt.ylabel(\"f(examples)\")\n",
    "\n"
   ]
  },
  {
   "cell_type": "markdown",
   "metadata": {},
   "source": [
    "\n",
    "\n",
    "\n",
    "\n",
    "# Going further\n",
    "\n",
    "The following are extensions of the work previously done. If attempting them **do not modify** the code you produced above so that it can be evaluated.\n",
    "\n",
    "### Improvements to gradient descent\n",
    "\n",
    "Consider improving the gradient descent with:\n",
    "\n",
    " - Stochastic Gradient Descent (SGD), which means selecting a subset of the examples for training\n",
    " - Detection of convergence to halt the algorithm before the maximum number of iterations\n",
    "\n",
    "\n",
    "### Data normalization\n",
    "\n",
    "Different input features can have different units, and very different ranges.\n",
    "Within the perceptron computation, these values will be summed together.\n",
    "While gradient descent is normally able to deal with this (by adapting the weights of the perceptron for each input feature), standardizing the input features usually eases the perceptron training, and can sometimes improve accuracy.\n",
    "\n",
    "\n",
    "\n",
    "\n",
    "```python\n",
    "from sklearn.preprocessing import StandardScaler\n",
    "sc = StandardScaler(copy=True) \n",
    "X_normalized = sc.fit_transform(X)\n",
    "```\n",
    "\n",
    "Try applying a standard normalization to the input features (make sure that you keep a feature column that is always equal to 1). Is the convergence faster ? Try to quantify this speed-up. What about accuracy ?"
   ]
  }
 ],
 "metadata": {
  "kernelspec": {
   "display_name": "Python 3",
   "language": "python",
   "name": "python3"
  },
  "language_info": {
   "codemirror_mode": {
    "name": "ipython",
    "version": 3
   },
   "file_extension": ".py",
   "mimetype": "text/x-python",
   "name": "python",
   "nbconvert_exporter": "python",
   "pygments_lexer": "ipython3",
   "version": "3.8.10"
  }
 },
 "nbformat": 4,
 "nbformat_minor": 4
}
