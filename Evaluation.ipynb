{
 "cells": [
  {
   "cell_type": "markdown",
   "metadata": {},
   "source": [
    "# Lab 1 Evaluation"
   ]
  },
  {
   "cell_type": "markdown",
   "metadata": {},
   "source": [
    "Names, Surnames, and Group : (to complete by 2 students)"
   ]
  },
  {
   "cell_type": "raw",
   "metadata": {},
   "source": [
    "HOGER Thomas 4IR-B1\n",
    "MOUTON Viktor 4IR-B1"
   ]
  },
  {
   "cell_type": "markdown",
   "metadata": {},
   "source": [
    "In the following, we consider the  (binarized) Compas dataset that we studied in the Lab"
   ]
  },
  {
   "cell_type": "code",
   "execution_count": 21,
   "metadata": {},
   "outputs": [],
   "source": [
    "from sklearn import tree\n",
    "from matplotlib import pyplot as plt # for a good visualization of the trees \n",
    "\n",
    "import csv\n",
    "import numpy as np\n",
    "from utils import load_from_csv\n",
    "from sklearn.model_selection import train_test_split\n",
    "\n",
    "from sklearn.metrics import accuracy_score,confusion_matrix\n",
    "import matplotlib.pyplot as plt"
   ]
  },
  {
   "cell_type": "code",
   "execution_count": 3,
   "metadata": {},
   "outputs": [],
   "source": [
    "train_examples, train_labels, features, prediction = load_from_csv(\"compass.csv\")\n",
    "unik = np.unique(train_examples,axis=0)"
   ]
  },
  {
   "cell_type": "markdown",
   "metadata": {},
   "source": [
    "A decision tree configuration is a set of parameters that one can use to build decision trees. Propose 6 configurations that are likely to provide different topologies and caracteristics"
   ]
  },
  {
   "cell_type": "code",
   "execution_count": 17,
   "metadata": {},
   "outputs": [],
   "source": [
    "clf1 = tree.DecisionTreeClassifier(splitter='best',max_depth=None,min_samples_leaf=2)\n",
    "clf2 = tree.DecisionTreeClassifier(splitter='random',max_depth=3,min_samples_leaf=2)\n",
    "clf3 = tree.DecisionTreeClassifier(splitter='best',max_depth=3,min_samples_leaf=2)\n",
    "clf4 = tree.DecisionTreeClassifier(splitter='best',max_depth=3,min_samples_leaf=7)\n",
    "clf5 = tree.DecisionTreeClassifier(splitter='random',max_depth=6,min_samples_leaf=2)\n",
    "clf6 = tree.DecisionTreeClassifier(splitter='random',max_depth=6,min_samples_leaf=7)"
   ]
  },
  {
   "cell_type": "markdown",
   "metadata": {},
   "source": [
    "Train a decision tree for each of the previous configurations on the full dataset"
   ]
  },
  {
   "cell_type": "code",
   "execution_count": 18,
   "metadata": {},
   "outputs": [
    {
     "data": {
      "text/plain": [
       "DecisionTreeClassifier(max_depth=6, min_samples_leaf=7, splitter='random')"
      ]
     },
     "execution_count": 18,
     "metadata": {},
     "output_type": "execute_result"
    }
   ],
   "source": [
    "clf1.fit(train_examples,train_labels)\n",
    "clf2.fit(train_examples,train_labels)\n",
    "clf3.fit(train_examples,train_labels)\n",
    "clf4.fit(train_examples,train_labels)\n",
    "clf5.fit(train_examples,train_labels)\n",
    "clf6.fit(train_examples,train_labels)"
   ]
  },
  {
   "cell_type": "markdown",
   "metadata": {},
   "source": [
    "Propose an evaluation in terms of training and testing accuracies using $5$-cross validation on two decision trees that have different typologies"
   ]
  },
  {
   "cell_type": "code",
   "execution_count": 20,
   "metadata": {},
   "outputs": [
    {
     "name": "stdout",
     "output_type": "stream",
     "text": [
      "Training 0.6963946869070209, Testing 0.690447973453425\n",
      "Training 0.683111954459203, Testing 0.6752785020146954\n"
     ]
    }
   ],
   "source": [
    "X_train, X_test, y_train, y_test = train_test_split(train_examples, train_labels, test_size=0.8,stratify=train_labels)\n",
    "\n",
    "clf1.fit(train_examples,train_labels)\n",
    "clf5.fit(train_examples,train_labels)\n",
    "\n",
    "score = []\n",
    "score += [(accuracy_score(clf1.predict(X_test),y_test), accuracy_score(clf1.predict(X_train),y_train))]\n",
    "score += [(accuracy_score(clf5.predict(X_test),y_test), accuracy_score(clf5.predict(X_train),y_train))]\n",
    "for s in score :\n",
    "    print(\"Training {}, Testing {}\".format(s[1],s[0]))"
   ]
  },
  {
   "cell_type": "raw",
   "metadata": {},
   "source": [
    "On voit bien que comme attendu la justesse de la prédiction liée aux données d'entrainement est supérieur à celle liée aux données de test. En effet, les données de test sont des nouvelles données que l'algorithme n'a pas encore eu l'occasion de rencontrer."
   ]
  },
  {
   "cell_type": "markdown",
   "metadata": {},
   "source": [
    "Propose an experimental study that shows the transition phase from underfitting to overfitting "
   ]
  },
  {
   "cell_type": "code",
   "execution_count": 59,
   "metadata": {},
   "outputs": [
    {
     "data": {
      "text/plain": [
       "<matplotlib.legend.Legend at 0x7f2ce67f1c88>"
      ]
     },
     "execution_count": 59,
     "metadata": {},
     "output_type": "execute_result"
    },
    {
     "data": {
      "image/png": "[encoded data removed]",
      "text/plain": [
       "<Figure size 432x288 with 1 Axes>"
      ]
     },
     "metadata": {
      "needs_background": "light"
     },
     "output_type": "display_data"
    }
   ],
   "source": [
    "X_train, X_test, y_train, y_test = train_test_split(train_examples, train_labels, test_size=0.2)\n",
    "\n",
    "pred_train = []\n",
    "pred_test  = []\n",
    "\n",
    "max_depth = 15\n",
    "\n",
    "for depth in range(1,max_depth):\n",
    "    clf = tree.DecisionTreeClassifier(splitter='best',max_depth=depth)\n",
    "    clf.fit(X_train,y_train)\n",
    "    pred_train += [accuracy_score(clf.predict(X_train),y_train)]\n",
    "    pred_test  += [accuracy_score(clf.predict(X_test),y_test)]\n",
    "    \n",
    "plt.plot(pred_train, label='train')\n",
    "plt.plot(pred_test, label='test')\n",
    "plt.xlabel('Depth')\n",
    "plt.ylabel('Accuracy')\n",
    "plt.legend()"
   ]
  },
  {
   "cell_type": "raw",
   "metadata": {},
   "source": [
    "On remarque bien ici qu'à partir d'une certaine profondeur d'arbre on overfit et le testing accuracy s'effondre.\n",
    "On voit à travers plusieurs simulations que la transition (seuil) amenant de l'underfitting à l'overfitting se situe à une profondeur d'environs 4 ou 5.\n",
    "\n",
    "C'est à cette profondeur que la prédiction à le plus de chance d'être exact. C'est donc celle ci que nous utiliserons pour la matrice de confusion en dessous."
   ]
  },
  {
   "cell_type": "markdown",
   "metadata": {},
   "source": [
    "Construct the confusion matrix on a particular good configuration (after explaining your choice)"
   ]
  },
  {
   "cell_type": "code",
   "execution_count": 60,
   "metadata": {},
   "outputs": [
    {
     "data": {
      "text/plain": [
       "array([[390, 176],\n",
       "       [167, 322]])"
      ]
     },
     "execution_count": 60,
     "metadata": {},
     "output_type": "execute_result"
    }
   ],
   "source": [
    "X_train, X_test, y_train, y_test = train_test_split(train_examples, train_labels, test_size=0.2)\n",
    "\n",
    "depth = 4\n",
    "\n",
    "clf = tree.DecisionTreeClassifier(splitter='best',max_depth=depth)\n",
    "clf.fit(X_train,y_train)\n",
    "    \n",
    "confusion_matrix(y_test,clf.predict(X_test))"
   ]
  },
  {
   "cell_type": "raw",
   "metadata": {},
   "source": [
    "On remarque qu'on a environ 2x plus de bonnes prédictions que de mauvaises. De plus cela semble plutôt équilibré entre les ratios de Faux-Negatifs et de Faux-Positif."
   ]
  },
  {
   "cell_type": "markdown",
   "metadata": {},
   "source": [
    "Provide an evaluation of the fairness of the model based on the False Positive Rate"
   ]
  },
  {
   "cell_type": "code",
   "execution_count": 76,
   "metadata": {},
   "outputs": [
    {
     "name": "stdout",
     "output_type": "stream",
     "text": [
      "Afro Americains 2525\n",
      "Caucasiens 1693\n",
      "Total 4218 == 4218\n"
     ]
    }
   ],
   "source": [
    "afAme_x = []\n",
    "afAme_y = []\n",
    "\n",
    "cauc_x  = []\n",
    "cauc_y  = []\n",
    "\n",
    "for i,X in enumerate(train_examples):\n",
    "    if X[0]:\n",
    "        afAme_x += [X]\n",
    "        afAme_y += [train_labels[i]]\n",
    "    else :\n",
    "        cauc_x  += [X]\n",
    "        cauc_y  += [train_labels[i]]\n",
    "        \n",
    "print(\"Afro Americains\", len(afAme_x))\n",
    "print(\"Caucasiens\", len(cauc_x))\n",
    "print(\"Total\", len(afAme_x) + len(cauc_x), '==' ,len(X_train))"
   ]
  },
  {
   "cell_type": "code",
   "execution_count": 81,
   "metadata": {},
   "outputs": [],
   "source": [
    "afAme_x_train, afAme_x_test, afAme_y_train, afAme_y_test = train_test_split(afAme_x, afAme_y, test_size=0.2)\n",
    "cauc_x_train, cauc_x_test, cauc_y_train, cauc_y_test = train_test_split(cauc_x, cauc_y, test_size=0.2)\n",
    "tot_x_train, tot_x_test, tot_y_train, tot_y_test = train_test_split(train_examples, train_labels, test_size=0.2)"
   ]
  },
  {
   "cell_type": "code",
   "execution_count": 89,
   "metadata": {},
   "outputs": [
    {
     "name": "stdout",
     "output_type": "stream",
     "text": [
      "[[6.2970297  2.57425743]\n",
      " [5.02970297 6.0990099 ]]\n",
      "[[9.50974601 3.30773774]\n",
      " [2.95333727 4.25280567]]\n"
     ]
    }
   ],
   "source": [
    "clfAf = tree.DecisionTreeClassifier(splitter='best',max_depth=depth)\n",
    "clfCa = tree.DecisionTreeClassifier(splitter='best',max_depth=depth)\n",
    "clfTo = tree.DecisionTreeClassifier(splitter='best',max_depth=depth)\n",
    "\n",
    "clfAf.fit(afAme_x_train,afAme_y_train)\n",
    "clfCa.fit(cauc_x_train,cauc_y_train)\n",
    "clfTo.fit(tot_x_train,tot_y_train)\n",
    "\n",
    "afAme_matrix   = confusion_matrix(afAme_y_test,clfTo.predict(afAme_x_test))\n",
    "cauc_matrix = confusion_matrix(cauc_y_test,clfAf.predict(cauc_x_test))\n",
    "tot_matrix  = confusion_matrix(tot_y_test,clfCa.predict(tot_x_test))\n",
    "\n",
    "m1 = tot_matrix-afAme_matrix\n",
    "m2 = tot_matrix-cauc_matrix\n",
    "\n",
    "print(afAme_matrix /len(afAme_x) * 100)\n",
    "print(cauc_matrix /len(cauc_x) * 100)\n",
    "# print(afAme_matrix - cauc_matrix)"
   ]
  },
  {
   "cell_type": "markdown",
   "metadata": {},
   "source": [
    "Pour savoir si l'algorithme est équitable ou non vis à vis d'une éthnie on pourrait :\n",
    "- Faire marcher l'algorithme avec les ethnies en parametre\n",
    "- Le faire marcher sans mentionner les ethnies\n",
    "- Faire la différence entre les matrices de confusions des 2 mesures\n",
    "Si il y'a une grandes différences entre les résultats alors ont peut estimer que l'algorithme n'est pas équitable"
   ]
  },
  {
   "cell_type": "raw",
   "metadata": {},
   "source": [
    "On voit qu'il y'a presque 2x plus de faux négatifs envers les Afro Americains qu'envers les Caucasiens\n",
    "On en déduit que l'algorithme fait de la discrimination : il aura tendance à plus accuser à tort des Afro Americains que des Caucasiens."
   ]
  }
 ],
 "metadata": {
  "kernelspec": {
   "display_name": "Python 3",
   "language": "python",
   "name": "python3"
  },
  "language_info": {
   "codemirror_mode": {
    "name": "ipython",
    "version": 3
   },
   "file_extension": ".py",
   "mimetype": "text/x-python",
   "name": "python",
   "nbconvert_exporter": "python",
   "pygments_lexer": "ipython3",
   "version": "3.7.3"
  }
 },
 "nbformat": 4,
 "nbformat_minor": 4
}
