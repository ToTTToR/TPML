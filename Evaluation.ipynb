{
 "cells": [
  {
   "cell_type": "markdown",
   "metadata": {},
   "source": [
    "# Lab 1 Evaluation"
   ]
  },
  {
   "cell_type": "markdown",
   "metadata": {},
   "source": [
    "Names, Surnames, and Group : (to complete by 2 students)"
   ]
  },
  {
   "cell_type": "raw",
   "metadata": {},
   "source": [
    "HOGER Thomas 4IR-B1\n",
    "MOUTON Viktor 4IR-B1"
   ]
  },
  {
   "cell_type": "markdown",
   "metadata": {},
   "source": [
    "In the following, we consider the  (binarized) Compas dataset that we studied in the Lab"
   ]
  },
  {
   "cell_type": "code",
   "execution_count": 6,
   "metadata": {},
   "outputs": [],
   "source": [
    "from sklearn import tree\n",
    "from matplotlib import pyplot as plt # for a good visualization of the trees \n",
    "\n",
    "import csv\n",
    "import numpy as np\n",
    "from utils import load_from_csv\n",
    "from sklearn.model_selection import train_test_split"
   ]
  },
  {
   "cell_type": "code",
   "execution_count": 10,
   "metadata": {},
   "outputs": [],
   "source": [
    "train_examples, train_labels, features, prediction = load_from_csv(\"compass.csv\")\n",
    "unik = np.unique(train_examples,axis=0)"
   ]
  },
  {
   "cell_type": "markdown",
   "metadata": {},
   "source": [
    "A decision tree configuration is a set of parameters that one can use to build decision trees. Propose 6 configurations that are likely to provide different topologies and caracteristics"
   ]
  },
  {
   "cell_type": "code",
   "execution_count": 14,
   "metadata": {},
   "outputs": [],
   "source": [
    "clf1 = tree.DecisionTreeClassifier(splitter='best',max_depth=None,min_samples_leaf=2)\n",
    "clf2 = tree.DecisionTreeClassifier(splitter='random',max_depth=3,min_samples_leaf=2)\n",
    "clf3 = tree.DecisionTreeClassifier(splitter='best',max_depth=3,min_samples_leaf=2)\n",
    "clf4 = tree.DecisionTreeClassifier(splitter='best',max_depth=3,min_samples_leaf=7)\n",
    "clf5 = tree.DecisionTreeClassifier(splitter='random',max_depth=None,min_samples_leaf=2)\n",
    "clf6 = tree.DecisionTreeClassifier(splitter='random',max_depth=6,min_samples_leaf=7)"
   ]
  },
  {
   "cell_type": "markdown",
   "metadata": {},
   "source": [
    "Train a decision tree for each of the previous configurations on the full dataset"
   ]
  },
  {
   "cell_type": "code",
   "execution_count": 15,
   "metadata": {},
   "outputs": [
    {
     "data": {
      "text/plain": [
       "DecisionTreeClassifier(max_depth=6, min_samples_leaf=7, splitter='random')"
      ]
     },
     "execution_count": 15,
     "metadata": {},
     "output_type": "execute_result"
    }
   ],
   "source": [
    "clf1.fit(train_examples,train_labels)\n",
    "clf2.fit(train_examples,train_labels)\n",
    "clf3.fit(train_examples,train_labels)\n",
    "clf4.fit(train_examples,train_labels)\n",
    "clf5.fit(train_examples,train_labels)\n",
    "clf6.fit(train_examples,train_labels)"
   ]
  },
  {
   "cell_type": "markdown",
   "metadata": {},
   "source": [
    "Propose an evaluation in terms of training and testing accuracies using $5$-cross validation on two decision trees that have different typologies"
   ]
  },
  {
   "cell_type": "code",
   "execution_count": 16,
   "metadata": {},
   "outputs": [
    {
     "data": {
      "text/plain": [
       "DecisionTreeClassifier(min_samples_leaf=2, splitter='random')"
      ]
     },
     "execution_count": 16,
     "metadata": {},
     "output_type": "execute_result"
    }
   ],
   "source": [
    "X_train, X_test, y_train, y_test = train_test_split(train_examples, train_labels, test_size=0.8,stratify=train_labels)\n",
    "\n",
    "clf1.fit(train_examples,train_labels)\n",
    "clf5.fit(train_examples,train_labels)"
   ]
  },
  {
   "cell_type": "markdown",
   "metadata": {},
   "source": [
    "Propose an experimental study that shows the transition phase from underfitting to overfitting "
   ]
  },
  {
   "cell_type": "code",
   "execution_count": null,
   "metadata": {},
   "outputs": [],
   "source": []
  },
  {
   "cell_type": "markdown",
   "metadata": {},
   "source": [
    "Construct the confusion matrix on a particular good configuration (after explaining your choice)"
   ]
  },
  {
   "cell_type": "code",
   "execution_count": null,
   "metadata": {},
   "outputs": [],
   "source": [
    "confusion_matrix(y_test,clf1.predict(X_test))"
   ]
  },
  {
   "cell_type": "markdown",
   "metadata": {},
   "source": [
    "Provide an evaluation of the fairness of the model based on the False Positive Rate"
   ]
  },
  {
   "cell_type": "code",
   "execution_count": null,
   "metadata": {},
   "outputs": [],
   "source": []
  }
 ],
 "metadata": {
  "kernelspec": {
   "display_name": "Python 3",
   "language": "python",
   "name": "python3"
  },
  "language_info": {
   "codemirror_mode": {
    "name": "ipython",
    "version": 3
   },
   "file_extension": ".py",
   "mimetype": "text/x-python",
   "name": "python",
   "nbconvert_exporter": "python",
   "pygments_lexer": "ipython3",
   "version": "3.7.3"
  }
 },
 "nbformat": 4,
 "nbformat_minor": 4
}
