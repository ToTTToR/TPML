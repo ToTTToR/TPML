{
 "cells": [
  {
   "cell_type": "code",
   "execution_count": 1,
   "id": "91b4392e",
   "metadata": {},
   "outputs": [
    {
     "name": "stderr",
     "output_type": "stream",
     "text": [
      "Matplotlib is building the font cache; this may take a moment.\n"
     ]
    }
   ],
   "source": [
    "#Part 1 Basic Steps\n",
    "\n",
    "from sklearn import tree\n",
    "from matplotlib import pyplot as plt # for a good visualization of the trees "
   ]
  },
  {
   "cell_type": "code",
   "execution_count": 2,
   "id": "a7d29619",
   "metadata": {},
   "outputs": [],
   "source": [
    "# X is the training set \n",
    "# Each example in X has 4 binary features\n",
    "X = [[0, 0, 1, 0], [0, 1, 0, 1] , [1, 1, 0, 0] , [1, 0, 1, 1] , [0, 0, 0, 1] , [1, 1, 1, 0]]\n",
    "\n",
    "# Y is the classes associated with the training set. \n",
    "# For instance the label of the first and second example is 1; of the third example is 0, etc\n",
    "Y = [1, 1, 0, 0, 1, 1]\n"
   ]
  },
  {
   "cell_type": "code",
   "execution_count": null,
   "id": "cb8659d0",
   "metadata": {},
   "outputs": [],
   "source": [
    "clf = tree.DecisionTreeClassifier()\n",
    "clf = clf.fit(X, Y)\n"
   ]
  }
 ],
 "metadata": {
  "kernelspec": {
   "display_name": "Python 3",
   "language": "python",
   "name": "python3"
  },
  "language_info": {
   "codemirror_mode": {
    "name": "ipython",
    "version": 3
   },
   "file_extension": ".py",
   "mimetype": "text/x-python",
   "name": "python",
   "nbconvert_exporter": "python",
   "pygments_lexer": "ipython3",
   "version": "3.8.10"
  }
 },
 "nbformat": 4,
 "nbformat_minor": 5
}
